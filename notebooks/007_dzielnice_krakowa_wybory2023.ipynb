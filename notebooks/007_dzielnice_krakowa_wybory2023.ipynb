{
 "cells": [
  {
   "cell_type": "markdown",
   "id": "62df52b7",
   "metadata": {},
   "source": [
    "Kody pozwalające analizę wyników wyborów do Sejmu RP z 2023 na poziomie dzielnic miasta Krakowa."
   ]
  },
  {
   "cell_type": "code",
   "execution_count": 18,
   "id": "8e0d9c4b",
   "metadata": {},
   "outputs": [],
   "source": [
    "from collections import defaultdict, OrderedDict\n",
    "import os"
   ]
  },
  {
   "cell_type": "code",
   "execution_count": 2,
   "id": "dc6de883",
   "metadata": {},
   "outputs": [],
   "source": [
    "from aipolit.sejmvote.voting_factory_general_results import create_voting_general_results\n",
    "from aipolit.sejmvote.voting_factory_candidate_results import create_voting_candidate_results\n",
    "from aipolit.utils.text import save_tsv"
   ]
  },
  {
   "cell_type": "code",
   "execution_count": 3,
   "id": "753d033f",
   "metadata": {},
   "outputs": [],
   "source": [
    "ELECTIONS_ID = 'sejm2023'\n",
    "OKREG_NO = 13\n",
    "PROCESSED_CITY = 'Kraków'  # we really filter by \"powiat name\"!!!\n",
    "MIN_OBWOD_POPULATION = 200 # we exclude \"small\" komisje to exclude hospitals etc., which may skew the results"
   ]
  },
  {
   "cell_type": "code",
   "execution_count": 15,
   "id": "cddd08b5",
   "metadata": {},
   "outputs": [],
   "source": [
    "ROOT_OUT_DIR = os.path.join(os.getenv(\"HOME\"), \"Pulpit\")"
   ]
  },
  {
   "cell_type": "code",
   "execution_count": 4,
   "id": "eadd0977",
   "metadata": {},
   "outputs": [],
   "source": [
    "general_results_data = create_voting_general_results(elections_id=ELECTIONS_ID)\n",
    "candidate_results_data = create_voting_candidate_results(elections_id=ELECTIONS_ID, okreg_no=OKREG_NO)"
   ]
  },
  {
   "cell_type": "code",
   "execution_count": 5,
   "id": "0fc028ad",
   "metadata": {},
   "outputs": [
    {
     "name": "stdout",
     "output_type": "stream",
     "text": [
      "We have 403 obwods to check in Kraków\n"
     ]
    }
   ],
   "source": [
    "obwod_ids_from_city = \\\n",
    "    general_results_data.voting_place_data.get_obwod_ids_matching_criteria(\n",
    "        powiat_name=PROCESSED_CITY,\n",
    "        with_location_data=True,\n",
    "        min_population=MIN_OBWOD_POPULATION,\n",
    "    )\n",
    "\n",
    "print(f\"We have {len(obwod_ids_from_city)} obwods to check in {PROCESSED_CITY}\")"
   ]
  },
  {
   "cell_type": "markdown",
   "id": "bf226847",
   "metadata": {},
   "source": [
    "Krok 1: Ręczne przyporządkowanie obwodów\n",
    "============================\n",
    "\n",
    "Uznałem, że tak będzie zwyczajnie szybciej i łatwiej :D\n",
    "\n",
    "Spojrzałem na wykaz i ręcznie przepisałem dzielnice:\n",
    "https://www.bip.krakow.pl/zalaczniki/dokumenty/n/415332/karta\n"
   ]
  },
  {
   "cell_type": "code",
   "execution_count": 6,
   "id": "e1bcc028",
   "metadata": {},
   "outputs": [],
   "source": [
    "def dzielnica_no_to_name(obwod_no:int) -> str:\n",
    "    names = {\n",
    "        1: \"01 - Stare Miasto\",\n",
    "        2: \"02 - Grzegórzki\",\n",
    "        3: \"03 - Prądnik Czerwony\",\n",
    "        4: \"04 - Prądnik Biały\",\n",
    "        5: \"05 - Krowodrza\",\n",
    "        6: \"06 - Bronowice\",\n",
    "        7: \"07 - Zwierzyniec\",\n",
    "        8: \"08 - Dębniki\",\n",
    "        9: \"09 - Łagiewniki-Borek Fałęcki\",\n",
    "        10: \"10 - Swoszowice\",\n",
    "        11: \"11 - Podgórze Duchackie\",\n",
    "        12: \"12 - Bieżanów Prokocim\",\n",
    "        13: \"13 - Podgórze\",\n",
    "        14: \"14 - Czyżyny\",\n",
    "        15: \"15 - Mistrzejowice\",\n",
    "        16: \"16 - Bieńczyce\",\n",
    "        17: \"17 - Wzgórza Krzesławickie\",\n",
    "        18: \"18 - Nowa Huta\"\n",
    "    }\n",
    "    return names.get(obwod_no, None)"
   ]
  },
  {
   "cell_type": "code",
   "execution_count": 7,
   "id": "90d5fe1a",
   "metadata": {},
   "outputs": [],
   "source": [
    "def obdwod_no_to_dzielnica_no(obwod_no: int) -> int:\n",
    "    if obwod_no >= 1 and obwod_no <= 23:\n",
    "        return 1 # Stare Miasto\n",
    "    elif obwod_no >= 24 and obwod_no <= 41:\n",
    "        return 2 # Grzegórzki\n",
    "    elif obwod_no >= 42 and obwod_no <= 68:\n",
    "        return 3 # Prądnik Czerwony\n",
    "    elif obwod_no >= 69 and obwod_no <= 105:\n",
    "        return 4 # Prądnik Biały\n",
    "    elif obwod_no >= 106 and obwod_no <= 124:\n",
    "        return 5 # Krowodrza\n",
    "    elif obwod_no >= 125 and obwod_no <= 137:   \n",
    "        return 6 # Bronowice\n",
    "    elif obwod_no >= 138 and obwod_no <= 148:\n",
    "        return 7 # Zwierzyniec\n",
    "    elif obwod_no >= 149 and obwod_no <= 184:\n",
    "        return 8 # Dębniki\n",
    "    elif obwod_no >= 185 and obwod_no <= 192:\n",
    "        return 9 # Łagiewniki Borek Fałęcki\n",
    "    elif obwod_no >= 193 and obwod_no <= 208:\n",
    "        return 10 # Swoszowice\n",
    "    elif obwod_no >= 209 and obwod_no <= 236:\n",
    "        return 11 # Podgórze Duchackie\n",
    "    elif obwod_no >= 237 and obwod_no <= 270:\n",
    "        return 12 # Bieżanów Prokocim\n",
    "    elif obwod_no >= 271 and obwod_no <= 292:\n",
    "        return 13 # Podgórze\n",
    "    elif obwod_no >= 293 and obwod_no <= 309:\n",
    "        return 14 # Czyżyny\n",
    "    elif obwod_no >= 310 and obwod_no <= 335:\n",
    "        return 15 # Mistrzejowice\n",
    "    elif obwod_no >= 336 and obwod_no <= 359:\n",
    "        return 16 # Bieńczyce\n",
    "    elif obwod_no >= 360 and obwod_no <= 370:\n",
    "        return 17 # Wzgorza Krzesławickie\n",
    "    elif obwod_no >= 371 and obwod_no <= 405:\n",
    "        return 18 # Nowa Huta\n",
    "    \n",
    "    # wyjątki\n",
    "    elif obwod_no == 406:\n",
    "        return 8\n",
    "    elif obwod_no == 407:\n",
    "        return 8\n",
    "    elif obwod_no == 408:\n",
    "        return 12\n",
    "    elif obwod_no == 409:\n",
    "        return 6\n",
    "    elif obwod_no == 410:\n",
    "        return 14\n",
    "    elif obwod_no == 411:\n",
    "        return 17\n",
    "    \n",
    "    return None"
   ]
  },
  {
   "cell_type": "code",
   "execution_count": 8,
   "id": "70577485",
   "metadata": {},
   "outputs": [
    {
     "name": "stdout",
     "output_type": "stream",
     "text": [
      "We have 403 processed_obwod numbers\n"
     ]
    }
   ],
   "source": [
    "processed_obwod_numbers = []\n",
    "\n",
    "obwod_no_to_obwod_id = {}\n",
    "obwod_id_to_obwod_no= {}\n",
    "dzielnica_no_to_obwod_nos = defaultdict(set)\n",
    "dzielnica_no_to_obwod_ids = defaultdict(set)\n",
    "\n",
    "for obwod_id in obwod_ids_from_city:\n",
    "    (_, obwod_no) = obwod_id.split(\"===\")\n",
    "    obwod_no = int(obwod_no)\n",
    "    \n",
    "    dzielnica_no = obdwod_no_to_dzielnica_no(obwod_no)\n",
    "    if dzielnica_no is None:\n",
    "        continue\n",
    "        \n",
    "    dzielnica_no_to_obwod_nos[dzielnica_no].add(obwod_no)\n",
    "    dzielnica_no_to_obwod_ids[dzielnica_no].add(obwod_id)\n",
    "        \n",
    "    obwod_no_to_obwod_id[obwod_no] = obwod_id\n",
    "    obwod_id_to_obwod_no[obwod_id] = obwod_no\n",
    "    \n",
    "    processed_obwod_numbers.append(obwod_no)\n",
    "    \n",
    "print(f\"We have {len(processed_obwod_numbers)} processed_obwod numbers\")"
   ]
  },
  {
   "cell_type": "markdown",
   "id": "f1273d92",
   "metadata": {},
   "source": [
    "Obliczenia dla kandydata\n",
    "=========================\n"
   ]
  },
  {
   "cell_type": "code",
   "execution_count": 48,
   "id": "c7604b13",
   "metadata": {},
   "outputs": [],
   "source": [
    "def count_for_lista_for_given_obwod_id(label, lista_id, obwod_ids):\n",
    "    stats = {\n",
    "        'name': label,\n",
    "        'population': 0,\n",
    "        'valid_votes': 0,\n",
    "        'votes_on_list': 0,\n",
    "    }\n",
    "    for obwod_id in obwod_ids:\n",
    "        entry = general_results_data.get_results_entry_by_obwod_id(obwod_id)\n",
    "        stats['population'] += entry['total_possible_voters']\n",
    "        stats['valid_votes'] += entry['total_valid_votes']\n",
    "        stats['votes_on_list'] += entry[f\"total_votes_lista_{lista_id}\"]\n",
    "    return stats\n",
    "\n",
    "def add_perc(results, key, total_key, perc_key=None):\n",
    "    if perc_key is None:\n",
    "        perc_key = key + \"_perc\"\n",
    "    \n",
    "    for dzielnica_no in results.keys():\n",
    "        val = results[dzielnica_no][key]\n",
    "        total = results[dzielnica_no][total_key]\n",
    "\n",
    "        perc_val = int(1000000 * val / total) / 10000\n",
    "        results[dzielnica_no][perc_key] = perc_val\n",
    "        \n",
    "def add_ranking(results, key):\n",
    "    rank_key = key + \"_rank\"\n",
    "\n",
    "    current_rank = 0\n",
    "    for dzielnica_no in sorted(results.keys(), key=lambda d: -results[d][key]):\n",
    "        if dzielnica_no == 0:\n",
    "            results[dzielnica_no][rank_key] = 0    \n",
    "        else:\n",
    "            current_rank += 1\n",
    "            results[dzielnica_no][rank_key] = current_rank\n",
    "    \n",
    "\n",
    "def count_for_lista(lista_id):\n",
    "    results = OrderedDict()\n",
    "    # dla wszystkich\n",
    "    results[0] = count_for_lista_for_given_obwod_id(\"wszystkie\", lista_id, obwod_ids_from_city)\n",
    "    \n",
    "    # per dzielinca\n",
    "    for dzielnica_no in range(1, 19):\n",
    "        obwod_ids_from_dzielnica = dzielnica_no_to_obwod_ids[dzielnica_no]\n",
    "        results[dzielnica_no] = \\\n",
    "            count_for_lista_for_given_obwod_id(\n",
    "                dzielnica_no_to_name(dzielnica_no), \n",
    "                lista_id,\n",
    "                obwod_ids_from_dzielnica)\n",
    "        \n",
    "    add_perc(results, \"valid_votes\", \"population\")\n",
    "    add_perc(results, \"votes_on_list\", 'valid_votes')\n",
    "    add_ranking(results, \"votes_on_list_perc\")\n",
    "        \n",
    "    return results"
   ]
  },
  {
   "cell_type": "code",
   "execution_count": 28,
   "id": "4c66cf84",
   "metadata": {},
   "outputs": [],
   "source": [
    "results_for_lista = count_for_lista('3d')"
   ]
  },
  {
   "cell_type": "code",
   "execution_count": 29,
   "id": "ea6bdc0f",
   "metadata": {},
   "outputs": [],
   "source": [
    "save_tsv(\n",
    "         os.path.join(ROOT_OUT_DIR, \"lista_results.tsv\"),\n",
    "         results_for_lista.values(),\n",
    "         header=['name', 'population', 'valid_votes','valid_votes_perc', 'votes_on_list', 'votes_on_list_perc', 'votes_on_list_perc_rank'],\n",
    "         labels=['Nazwa dzielnicy', 'Populacja', 'Oddanych głosów', 'Frekwencja', 'Głosów na 3D', 'Głosów na 3D (w %)', 'Ranking 3D']\n",
    "        )"
   ]
  },
  {
   "cell_type": "code",
   "execution_count": 49,
   "id": "6f070855",
   "metadata": {},
   "outputs": [],
   "source": [
    "def count_for_candidate_for_given_obwod_id(dzielnica_no, label, lista_id, cand_index, obwod_ids):\n",
    "    stats = results_for_lista[dzielnica_no].copy()\n",
    "    stats['my_votes'] = 0\n",
    "    for obwod_id in obwod_ids:\n",
    "        entry = candidate_results_data.get_results_entry_by_obwod_id(obwod_id)\n",
    "        my_votes = entry[f\"total_votes_lista_{lista_id}_cand_{cand_index}\"]\n",
    "        stats['my_votes'] += my_votes\n",
    "    return stats\n",
    "\n",
    "def count_for_candidate(lista_id, cand_index):\n",
    "    results = OrderedDict()\n",
    "    # dla wszystkich dzielnic\n",
    "    results[0] = count_for_candidate_for_given_obwod_id(0, \"wszystkie\", lista_id, cand_index, obwod_ids_from_city)\n",
    "    \n",
    "    # per dzielinca\n",
    "    for dzielnica_no in range(1, 19):\n",
    "        obwod_ids_from_dzielnica = dzielnica_no_to_obwod_ids[dzielnica_no]\n",
    "        results[dzielnica_no] = \\\n",
    "            count_for_candidate_for_given_obwod_id(\n",
    "                dzielnica_no,\n",
    "                dzielnica_no_to_name(dzielnica_no), \n",
    "                lista_id,\n",
    "                cand_index,\n",
    "                obwod_ids_from_dzielnica)\n",
    "    \n",
    "    add_perc(results, \"my_votes\", 'valid_votes')\n",
    "    add_perc(results, \"my_votes\", 'votes_on_list', 'my_votes_perc_from_list')\n",
    "    add_ranking(results, \"my_votes_perc\")\n",
    "    add_ranking(results, \"my_votes_perc_from_list\")\n",
    "    \n",
    "    return results"
   ]
  },
  {
   "cell_type": "code",
   "execution_count": 50,
   "id": "da1f5730",
   "metadata": {},
   "outputs": [],
   "source": [
    "cands_to_process = [\n",
    "    (0, 'Rafał Komarewicz'),\n",
    "    (2, 'Małgorzata Szostak'),\n",
    "    (4, 'Karolina Górnisiewicz'),\n",
    "    (6, 'Monika Motyczyńska'),\n",
    "    (8, 'Patrycja Durska'),\n",
    "    (12, 'Jacek Stawowski'),\n",
    "]\n",
    "\n",
    "for cand_entry in cands_to_process:\n",
    "    result_for_cand = count_for_candidate('3d', cand_entry[0])\n",
    "    fp = os.path.join(ROOT_OUT_DIR, f\"cand-{cand_entry[1]}.tsv\")\n",
    "    \n",
    "    save_tsv(\n",
    "         fp,\n",
    "         result_for_cand.values(),\n",
    "         header=['name', 'population', 'valid_votes','valid_votes_perc', 'votes_on_list', 'votes_on_list_perc', 'votes_on_list_perc_rank',\n",
    "                'my_votes', 'my_votes_perc', 'my_votes_perc_rank', 'my_votes_perc_from_list', 'my_votes_perc_from_list_rank'\n",
    "                ],\n",
    "         labels=['Nazwa dzielnicy', 'Populacja', 'Oddanych głosów', 'Frekwencja', 'Głosów na 3D', 'Głosów na 3D (w %)', 'Ranking 3D',\n",
    "                'moje głosy', 'moje głosy (w %)', 'Mój RANKING (ogólny)', 'moje głosy (w % względem głosów listy)', 'Mój RANKING - względny (mój wkład w listę)', \n",
    "                ]\n",
    "        )"
   ]
  },
  {
   "cell_type": "markdown",
   "id": "9f85eded",
   "metadata": {},
   "source": [
    "Wszystkie wygenerowane pliki TSV wystarczy teraz połączyć w jeden Excel (nie chciało mi się generować XLSX :) a złożenie tego ręczne zajmuje 2 minuty :D ).\n",
    "\n",
    "W sumie tyle."
   ]
  },
  {
   "cell_type": "code",
   "execution_count": null,
   "id": "2de18809",
   "metadata": {},
   "outputs": [],
   "source": []
  }
 ],
 "metadata": {
  "kernelspec": {
   "display_name": "ai-polit",
   "language": "python",
   "name": "ai-polit"
  },
  "language_info": {
   "codemirror_mode": {
    "name": "ipython",
    "version": 3
   },
   "file_extension": ".py",
   "mimetype": "text/x-python",
   "name": "python",
   "nbconvert_exporter": "python",
   "pygments_lexer": "ipython3",
   "version": "3.8.10"
  },
  "varInspector": {
   "cols": {
    "lenName": 16,
    "lenType": 16,
    "lenVar": 40
   },
   "kernels_config": {
    "python": {
     "delete_cmd_postfix": "",
     "delete_cmd_prefix": "del ",
     "library": "var_list.py",
     "varRefreshCmd": "print(var_dic_list())"
    },
    "r": {
     "delete_cmd_postfix": ") ",
     "delete_cmd_prefix": "rm(",
     "library": "var_list.r",
     "varRefreshCmd": "cat(var_dic_list()) "
    }
   },
   "types_to_exclude": [
    "module",
    "function",
    "builtin_function_or_method",
    "instance",
    "_Feature"
   ],
   "window_display": false
  }
 },
 "nbformat": 4,
 "nbformat_minor": 5
}
